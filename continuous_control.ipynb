{
 "cells": [
  {
   "attachments": {},
   "cell_type": "markdown",
   "metadata": {},
   "source": [
    "# Continuous Control Project"
   ]
  },
  {
   "attachments": {},
   "cell_type": "markdown",
   "metadata": {},
   "source": [
    "### Import the necessary libraries\n",
    "\n",
    "The agent is defined in the DDPG_agent.py file and is imported from there.\n",
    "The Actor and Critic networks are created in the model_pendulum.py file ( The model_pendulum.py file is an adaptation of the model.py file in the ddpg_pendulum folder of udacity DRL repo ). The Actor and Critic networks are used while defining the agent and hence imported in DDPG_agent.py file."
   ]
  },
  {
   "cell_type": "code",
   "execution_count": 1,
   "metadata": {},
   "outputs": [],
   "source": [
    "from unityagents import UnityEnvironment \n",
    "import numpy as np\n",
    "from queue import deque\n",
    "from DDPG_agent import Agent\n",
    "import torch\n",
    "import matplotlib.pyplot as plt\n",
    "from tqdm import tqdm\n",
    "import pickle"
   ]
  },
  {
   "attachments": {},
   "cell_type": "markdown",
   "metadata": {},
   "source": [
    "Next, we will start the environment!  **_Before running the code cell below_**, change the `file_name` parameter to match the location of the Unity environment that you downloaded.\n",
    "\n",
    "- **Mac**: `\"path/to/Reacher.app\"`\n",
    "- **Windows** (x86): `\"path/to/Reacher_Windows_x86/Reacher.exe\"`\n",
    "- **Windows** (x86_64): `\"path/to/Reacher_Windows_x86_64/Reacher.exe\"`\n",
    "- **Linux** (x86): `\"path/to/Reacher_Linux/Reacher.x86\"`\n",
    "- **Linux** (x86_64): `\"path/to/Reacher_Linux/Reacher.x86_64\"`\n",
    "- **Linux** (x86, headless): `\"path/to/Reacher_Linux_NoVis/Reacher.x86\"`\n",
    "- **Linux** (x86_64, headless): `\"path/to/Reacher_Linux_NoVis/Reacher.x86_64\"`\n",
    "\n",
    "For instance, if you are using a Mac, then you downloaded `Reacher.app`.  If this file is in the same folder as the notebook, then the line below should appear as follows:\n",
    "```\n",
    "env = UnityEnvironment(file_name=\"Reacher.app\")"
   ]
  },
  {
   "cell_type": "code",
   "execution_count": 2,
   "metadata": {},
   "outputs": [
    {
     "name": "stderr",
     "output_type": "stream",
     "text": [
      "INFO:unityagents:\n",
      "'Academy' started successfully!\n",
      "Unity Academy name: Academy\n",
      "        Number of Brains: 1\n",
      "        Number of External Brains : 1\n",
      "        Lesson number : 0\n",
      "        Reset Parameters :\n",
      "\t\tgoal_size -> 5.0\n",
      "\t\tgoal_speed -> 1.0\n",
      "Unity brain name: ReacherBrain\n",
      "        Number of Visual Observations (per agent): 0\n",
      "        Vector Observation space type: continuous\n",
      "        Vector Observation space size (per agent): 33\n",
      "        Number of stacked Vector Observation: 1\n",
      "        Vector Action space type: continuous\n",
      "        Vector Action space size (per agent): 4\n",
      "        Vector Action descriptions: , , , \n"
     ]
    }
   ],
   "source": [
    "env = UnityEnvironment(file_name =r'D:\\Udacity\\Git repo\\deep-reinforcement-learning-master\\p2_continuous-control\\Version1_one agent\\Reacher_Windows_x86_64\\Reacher.exe')\n",
    "\n",
    "brain_name = env.brain_names[0]"
   ]
  },
  {
   "cell_type": "code",
   "execution_count": 3,
   "metadata": {},
   "outputs": [],
   "source": [
    "brain_name = env.brain_names[0]\n",
    "brain = env.brains[brain_name]\n"
   ]
  },
  {
   "cell_type": "code",
   "execution_count": 4,
   "metadata": {},
   "outputs": [
    {
     "name": "stdout",
     "output_type": "stream",
     "text": [
      "Number of agents: 1\n",
      "Size of each action: 4\n",
      "There are 1 agents. Each observes a state with length: 33\n",
      "The state for the first agent looks like: [ 0.00000000e+00 -4.00000000e+00  0.00000000e+00  1.00000000e+00\n",
      " -0.00000000e+00 -0.00000000e+00 -4.37113883e-08  0.00000000e+00\n",
      "  0.00000000e+00  0.00000000e+00  0.00000000e+00  0.00000000e+00\n",
      "  0.00000000e+00  0.00000000e+00 -1.00000000e+01  0.00000000e+00\n",
      "  1.00000000e+00 -0.00000000e+00 -0.00000000e+00 -4.37113883e-08\n",
      "  0.00000000e+00  0.00000000e+00  0.00000000e+00  0.00000000e+00\n",
      "  0.00000000e+00  0.00000000e+00  5.75471878e+00 -1.00000000e+00\n",
      "  5.55726671e+00  0.00000000e+00  1.00000000e+00  0.00000000e+00\n",
      " -1.68164849e-01]\n"
     ]
    }
   ],
   "source": [
    "# reset the environment\n",
    "env_info = env.reset(train_mode=True)[brain_name]\n",
    "\n",
    "# number of agents\n",
    "num_agents = len(env_info.agents)\n",
    "print('Number of agents:', num_agents)\n",
    "\n",
    "# size of each action\n",
    "action_size = brain.vector_action_space_size\n",
    "print('Size of each action:', action_size)\n",
    "\n",
    "# examine the state space \n",
    "states = env_info.vector_observations\n",
    "state_size = states.shape[1]\n",
    "print('There are {} agents. Each observes a state with length: {}'.format(states.shape[0], state_size))\n",
    "print('The state for the first agent looks like:', states[0])"
   ]
  },
  {
   "attachments": {},
   "cell_type": "markdown",
   "metadata": {},
   "source": [
    "### Define the Agent"
   ]
  },
  {
   "cell_type": "code",
   "execution_count": 5,
   "metadata": {},
   "outputs": [
    {
     "name": "stdout",
     "output_type": "stream",
     "text": [
      "cuda:0\n"
     ]
    }
   ],
   "source": [
    "my_agent = Agent(state_size=state_size, action_size=action_size, random_seed=10)"
   ]
  },
  {
   "attachments": {},
   "cell_type": "markdown",
   "metadata": {},
   "source": [
    "### Train and save the model"
   ]
  },
  {
   "cell_type": "code",
   "execution_count": 6,
   "metadata": {},
   "outputs": [],
   "source": [
    "def continuous_control(n_episodes=1200, max_t=1000, eps_start=1.0, eps_end=0.01, eps_decay=0.995,agent = my_agent,brain_name = brain_name,resume = 1,scores = [],scores_window = None):\n",
    "    \"\"\"\n",
    "    \n",
    "    Params\n",
    "    ======\n",
    "        n_episodes (int): maximum number of training episodes\n",
    "        max_t (int): maximum number of timesteps per episode\n",
    "        eps_start (float): starting value of epsilon, for epsilon-greedy action selection\n",
    "        eps_end (float): minimum value of epsilon\n",
    "        eps_decay (float): multiplicative factor (per episode) for decreasing epsilon\n",
    "    \"\"\"\n",
    "    if not scores:\n",
    "        scores = []                                              # list containing scores from each episode\n",
    "    if not scores_window:                   \n",
    "        scores_window = deque(maxlen=100)                        # last 100 scores\n",
    "    eps = eps_start                                              # initialize epsilon\n",
    "    for i_episode in range(resume, n_episodes+1):\n",
    "        env_info = env.reset(train_mode=True)[brain_name]        # reset the environment\n",
    "        state = env_info.vector_observations[0]                  # get the current state\n",
    "        score = 0  \n",
    "        for t in range(max_t):\n",
    "            action = agent.act(state)\n",
    "            env_info = env.step(action)[brain_name]  \n",
    "            next_state = env_info.vector_observations[0]         # get the next state\n",
    "            reward = env_info.rewards[0]                         # get the reward\n",
    "            done = env_info.local_done[0]  \n",
    "\n",
    "            agent.step(state, action, reward, next_state, done)\n",
    "            state = next_state\n",
    "            score += reward\n",
    "            if done:\n",
    "                print(done)\n",
    "                break \n",
    "        scores_window.append(score)                             # save most recent score\n",
    "        scores.append(score)                                    # save most recent score\n",
    "        eps = max(eps_end, eps_decay*eps)                       # decrease epsilon\n",
    "        print('\\rEpisode {}\\tAverage Score: {:.2f}'.format(i_episode, np.mean(scores_window)), end=\"\")\n",
    "        if i_episode % 10 == 0:\n",
    "            print('\\rEpisode {}\\tAverage Score: {:.2f}'.format(i_episode, np.mean(scores_window)))\n",
    "        if np.mean(scores_window)>=30.0:\n",
    "            print('\\nEnvironment solved in {:d} episodes!\\tAverage Score: {:.2f}'.format(i_episode-100, np.mean(scores_window)))\n",
    "            torch.save(agent.actor_local.state_dict(), 'final_checkpoint/checkpoint_actor.pth')\n",
    "            torch.save(agent.critic_local.state_dict(), 'final_checkpoint/checkpoint_critic.pth')\n",
    "            break\n",
    "        # if i_episode % 100 == 0:\n",
    "        #     torch.save(agent.actor_local.state_dict(), f'checkpoints2/checkpoint_seed10_actor_{i_episode}.pth')\n",
    "        #     torch.save(agent.critic_local.state_dict(), f'checkpoints2/checkpoint_seed10_critic_{i_episode}.pth')\n",
    "        #     with open('checkpoints2/scores.pkl','wb') as s:\n",
    "        #         pickle.dump(scores,s)\n",
    "        #     with open('checkpoints2/scores_window.pkl','wb') as s:\n",
    "        #         pickle.dump(scores_window,s)\n",
    "            \n",
    "\n",
    "    return scores"
   ]
  },
  {
   "cell_type": "code",
   "execution_count": 7,
   "metadata": {},
   "outputs": [
    {
     "name": "stdout",
     "output_type": "stream",
     "text": [
      "Episode 10\tAverage Score: 0.40\n",
      "Episode 20\tAverage Score: 0.50\n",
      "Episode 30\tAverage Score: 0.62\n",
      "Episode 40\tAverage Score: 0.77\n",
      "Episode 50\tAverage Score: 0.83\n",
      "Episode 60\tAverage Score: 0.99\n",
      "Episode 70\tAverage Score: 1.19\n",
      "Episode 80\tAverage Score: 1.37\n",
      "Episode 90\tAverage Score: 1.51\n",
      "Episode 100\tAverage Score: 1.66\n",
      "Episode 110\tAverage Score: 2.05\n",
      "Episode 120\tAverage Score: 2.47\n",
      "Episode 130\tAverage Score: 3.06\n",
      "Episode 140\tAverage Score: 3.66\n",
      "Episode 150\tAverage Score: 4.30\n",
      "Episode 160\tAverage Score: 5.13\n",
      "Episode 170\tAverage Score: 5.89\n",
      "Episode 180\tAverage Score: 6.54\n",
      "Episode 190\tAverage Score: 7.57\n",
      "Episode 200\tAverage Score: 8.35\n",
      "Episode 210\tAverage Score: 8.99\n",
      "Episode 220\tAverage Score: 9.72\n",
      "Episode 230\tAverage Score: 10.21\n",
      "Episode 240\tAverage Score: 10.72\n",
      "Episode 250\tAverage Score: 11.64\n",
      "Episode 260\tAverage Score: 12.20\n",
      "Episode 270\tAverage Score: 13.02\n",
      "Episode 280\tAverage Score: 14.34\n",
      "Episode 290\tAverage Score: 15.22\n",
      "Episode 300\tAverage Score: 16.18\n",
      "Episode 310\tAverage Score: 17.48\n",
      "Episode 320\tAverage Score: 18.74\n",
      "Episode 330\tAverage Score: 20.20\n",
      "Episode 340\tAverage Score: 21.77\n",
      "Episode 350\tAverage Score: 22.78\n",
      "Episode 360\tAverage Score: 24.05\n",
      "Episode 370\tAverage Score: 25.23\n",
      "Episode 380\tAverage Score: 25.89\n",
      "Episode 390\tAverage Score: 26.73\n",
      "Episode 400\tAverage Score: 27.72\n",
      "Episode 410\tAverage Score: 28.47\n",
      "Episode 420\tAverage Score: 29.20\n",
      "Episode 430\tAverage Score: 29.53\n",
      "Episode 440\tAverage Score: 29.80\n",
      "Episode 444\tAverage Score: 30.09\n",
      "Environment solved in 344 episodes!\tAverage Score: 30.09\n"
     ]
    }
   ],
   "source": [
    "scores = continuous_control()"
   ]
  },
  {
   "cell_type": "code",
   "execution_count": null,
   "metadata": {},
   "outputs": [],
   "source": []
  },
  {
   "attachments": {},
   "cell_type": "markdown",
   "metadata": {},
   "source": [
    "### Plot the scores"
   ]
  },
  {
   "cell_type": "code",
   "execution_count": 9,
   "metadata": {},
   "outputs": [
    {
     "data": {
      "image/png": "[encoded data removed]",
      "text/plain": [
       "<Figure size 640x480 with 1 Axes>"
      ]
     },
     "metadata": {},
     "output_type": "display_data"
    }
   ],
   "source": [
    "fig = plt.figure()\n",
    "ax = fig.add_subplot(111)\n",
    "plt.plot(np.arange(len(scores)), scores)\n",
    "plt.ylabel('Score')\n",
    "plt.xlabel('Episode number')\n",
    "plt.show()"
   ]
  },
  {
   "attachments": {},
   "cell_type": "markdown",
   "metadata": {},
   "source": [
    "### Test the model"
   ]
  },
  {
   "attachments": {},
   "cell_type": "markdown",
   "metadata": {},
   "source": [
    "* load the checkpoint ( only the weights of 'actor_local' will be required for testing)\n",
    "\n",
    "    give the path of the model (actor_local) in the variable \"actor_local_checkpoint_path\""
   ]
  },
  {
   "cell_type": "code",
   "execution_count": 10,
   "metadata": {},
   "outputs": [
    {
     "name": "stdout",
     "output_type": "stream",
     "text": [
      "cuda:0\n"
     ]
    },
    {
     "data": {
      "text/plain": [
       "<All keys matched successfully>"
      ]
     },
     "execution_count": 10,
     "metadata": {},
     "output_type": "execute_result"
    }
   ],
   "source": [
    "actor_local_checkpoint_path = r'D:\\Udacity\\DRL Codes\\2nd project\\final_checkpoint\\checkpoint_actor.pth'\n",
    "loaded_checkpoint = torch.load(actor_local_checkpoint_path)\n",
    "\n",
    "# define the agent\n",
    "my_agent = Agent(state_size=state_size, action_size=action_size, random_seed=10)\n",
    "\n",
    "#load the weights\n",
    "my_agent.actor_local.load_state_dict(loaded_checkpoint)"
   ]
  },
  {
   "cell_type": "code",
   "execution_count": 11,
   "metadata": {},
   "outputs": [
    {
     "name": "stdout",
     "output_type": "stream",
     "text": [
      "Score: 36.8599991761148\n"
     ]
    }
   ],
   "source": [
    "env_info = env.reset(train_mode=False)[brain_name]\n",
    "\n",
    "state = env_info.vector_observations[0]\n",
    "score = 0\n",
    "\n",
    "while True:\n",
    "    action = my_agent.act(state)\n",
    "    # action = int(action)\n",
    "    env_info = env.step(action)[brain_name]\n",
    "    next_state = env_info.vector_observations[0]\n",
    "    reward = env_info.rewards[0]\n",
    "    done = env_info.local_done[0]\n",
    "    score+=reward\n",
    "    state = next_state\n",
    "    if done: break\n",
    "\n",
    "print('Score:', score)\n"
   ]
  },
  {
   "cell_type": "code",
   "execution_count": 12,
   "metadata": {},
   "outputs": [],
   "source": [
    "env.close()"
   ]
  },
  {
   "cell_type": "code",
   "execution_count": null,
   "metadata": {},
   "outputs": [],
   "source": []
  },
  {
   "cell_type": "code",
   "execution_count": null,
   "metadata": {},
   "outputs": [],
   "source": []
  }
 ],
 "metadata": {
  "kernelspec": {
   "display_name": "Python 3",
   "language": "python",
   "name": "python3"
  },
  "language_info": {
   "codemirror_mode": {
    "name": "ipython",
    "version": 3
   },
   "file_extension": ".py",
   "mimetype": "text/x-python",
   "name": "python",
   "nbconvert_exporter": "python",
   "pygments_lexer": "ipython3",
   "version": "3.10.5"
  }
 },
 "nbformat": 4,
 "nbformat_minor": 2
}
